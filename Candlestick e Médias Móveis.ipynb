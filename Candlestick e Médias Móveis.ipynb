{
 "cells": [
  {
   "cell_type": "code",
   "execution_count": 1,
   "metadata": {},
   "outputs": [],
   "source": [
    "#Visualizando Gráfico da Ação BBDC4\n",
    "import plotly\n",
    "import plotly.offline as py\n",
    "import pandas as pd"
   ]
  },
  {
   "cell_type": "code",
   "execution_count": 2,
   "metadata": {},
   "outputs": [
    {
     "data": {
      "text/html": [
       "<div>\n",
       "<style scoped>\n",
       "    .dataframe tbody tr th:only-of-type {\n",
       "        vertical-align: middle;\n",
       "    }\n",
       "\n",
       "    .dataframe tbody tr th {\n",
       "        vertical-align: top;\n",
       "    }\n",
       "\n",
       "    .dataframe thead th {\n",
       "        text-align: right;\n",
       "    }\n",
       "</style>\n",
       "<table border=\"1\" class=\"dataframe\">\n",
       "  <thead>\n",
       "    <tr style=\"text-align: right;\">\n",
       "      <th></th>\n",
       "      <th>Date</th>\n",
       "      <th>Open</th>\n",
       "      <th>High</th>\n",
       "      <th>Low</th>\n",
       "      <th>Close</th>\n",
       "      <th>Adj Close</th>\n",
       "      <th>Volume</th>\n",
       "    </tr>\n",
       "  </thead>\n",
       "  <tbody>\n",
       "    <tr>\n",
       "      <th>0</th>\n",
       "      <td>2019-12-02</td>\n",
       "      <td>33.470001</td>\n",
       "      <td>33.880001</td>\n",
       "      <td>33.389999</td>\n",
       "      <td>33.590000</td>\n",
       "      <td>32.233234</td>\n",
       "      <td>11664800.0</td>\n",
       "    </tr>\n",
       "    <tr>\n",
       "      <th>1</th>\n",
       "      <td>2019-12-03</td>\n",
       "      <td>33.790001</td>\n",
       "      <td>34.020000</td>\n",
       "      <td>33.549999</td>\n",
       "      <td>33.689999</td>\n",
       "      <td>32.345798</td>\n",
       "      <td>14647300.0</td>\n",
       "    </tr>\n",
       "    <tr>\n",
       "      <th>2</th>\n",
       "      <td>2019-12-04</td>\n",
       "      <td>33.799999</td>\n",
       "      <td>34.560001</td>\n",
       "      <td>33.700001</td>\n",
       "      <td>34.560001</td>\n",
       "      <td>33.181091</td>\n",
       "      <td>16864100.0</td>\n",
       "    </tr>\n",
       "    <tr>\n",
       "      <th>3</th>\n",
       "      <td>2019-12-05</td>\n",
       "      <td>34.599998</td>\n",
       "      <td>35.099998</td>\n",
       "      <td>34.480000</td>\n",
       "      <td>34.700001</td>\n",
       "      <td>33.315502</td>\n",
       "      <td>17488200.0</td>\n",
       "    </tr>\n",
       "    <tr>\n",
       "      <th>4</th>\n",
       "      <td>2019-12-06</td>\n",
       "      <td>34.700001</td>\n",
       "      <td>35.020000</td>\n",
       "      <td>34.279999</td>\n",
       "      <td>34.310001</td>\n",
       "      <td>32.941067</td>\n",
       "      <td>19718900.0</td>\n",
       "    </tr>\n",
       "  </tbody>\n",
       "</table>\n",
       "</div>"
      ],
      "text/plain": [
       "         Date       Open       High        Low      Close  Adj Close  \\\n",
       "0  2019-12-02  33.470001  33.880001  33.389999  33.590000  32.233234   \n",
       "1  2019-12-03  33.790001  34.020000  33.549999  33.689999  32.345798   \n",
       "2  2019-12-04  33.799999  34.560001  33.700001  34.560001  33.181091   \n",
       "3  2019-12-05  34.599998  35.099998  34.480000  34.700001  33.315502   \n",
       "4  2019-12-06  34.700001  35.020000  34.279999  34.310001  32.941067   \n",
       "\n",
       "       Volume  \n",
       "0  11664800.0  \n",
       "1  14647300.0  \n",
       "2  16864100.0  \n",
       "3  17488200.0  \n",
       "4  19718900.0  "
      ]
     },
     "execution_count": 2,
     "metadata": {},
     "output_type": "execute_result"
    }
   ],
   "source": [
    "df = pd.read_csv('BBDC4.SA.csv')\n",
    "df.head()"
   ]
  },
  {
   "cell_type": "code",
   "execution_count": 3,
   "metadata": {},
   "outputs": [
    {
     "data": {
      "text/plain": [
       "Renderers configuration\n",
       "-----------------------\n",
       "    Default renderer: 'plotly_mimetype+notebook'\n",
       "    Available renderers:\n",
       "        ['plotly_mimetype', 'jupyterlab', 'nteract', 'vscode',\n",
       "         'notebook', 'notebook_connected', 'kaggle', 'azure', 'colab',\n",
       "         'cocalc', 'databricks', 'json', 'png', 'jpeg', 'jpg', 'svg',\n",
       "         'pdf', 'browser', 'firefox', 'chrome', 'chromium', 'iframe',\n",
       "         'iframe_connected', 'sphinx_gallery', 'sphinx_gallery_png']"
      ]
     },
     "execution_count": 3,
     "metadata": {},
     "output_type": "execute_result"
    }
   ],
   "source": [
    "import plotly.io as pio\n",
    "pio.renderers"
   ]
  },
  {
   "cell_type": "code",
   "execution_count": 4,
   "metadata": {},
   "outputs": [],
   "source": [
    "pio.renderers.default = 'iframe'\n",
    "import plotly.graph_objs as go"
   ]
  },
  {
   "cell_type": "code",
   "execution_count": 5,
   "metadata": {},
   "outputs": [],
   "source": [
    "#Gerando as Médias Móveis (MM) simples\n",
    "df['MM_21'] = df.Close.rolling(window=21).mean() #Média Móvel de 21 Períodos\n",
    "df['MM_90'] = df.Close.rolling(window=90).mean() #Média Móvel de 90 Períodos\n",
    "df['MM_200'] = df.Close.rolling(window=200).mean() #Média Móvel de 200 Períodos\n",
    "\n",
    "MM_21 = go.Scatter(\n",
    "    x=df.Date,\n",
    "    y=df['MM_21'],\n",
    "    name = 'MM 21 períodos',\n",
    "    line = dict(color = '#00FF00'),\n",
    "    opacity = 0.8)\n",
    "\n",
    "MM_90 = go.Scatter(\n",
    "    x=df.Date,\n",
    "    y=df['MM_90'],\n",
    "    name = 'MM 90 períodos',\n",
    "    line = dict(color = '#FF8C00'),\n",
    "    opacity = 0.8)\n",
    "\n",
    "MM_200 = go.Scatter(\n",
    "    x=df.Date,\n",
    "    y=df['MM_200'],\n",
    "    name = 'MM 200 períodos',\n",
    "    line = dict(color = '#000000'),\n",
    "    opacity = 0.8)"
   ]
  },
  {
   "cell_type": "code",
   "execution_count": 6,
   "metadata": {},
   "outputs": [],
   "source": [
    "#Gerando o gráfico de Candlestick\n",
    "trace = go.Candlestick(x=df['Date'],\n",
    "                      open=df['Open'],\n",
    "                      high=df['High'],\n",
    "                      low=df['Low'],\n",
    "                      close=df['Close'])\n",
    "\n",
    "close = go.Scatter(\n",
    "    x=df.Date,\n",
    "    y=df.Close,\n",
    "    name = 'BBDC4 Close',\n",
    "    line = dict(color = '#330000'),\n",
    "    opacity = 0.8)"
   ]
  },
  {
   "cell_type": "code",
   "execution_count": 7,
   "metadata": {},
   "outputs": [
    {
     "data": {
      "text/html": [
       "<iframe\n",
       "    scrolling=\"no\"\n",
       "    width=\"100%\"\n",
       "    height=\"545px\"\n",
       "    src=\"iframe_figures/figure_7.html\"\n",
       "    frameborder=\"0\"\n",
       "    allowfullscreen\n",
       "></iframe>\n"
      ]
     },
     "metadata": {},
     "output_type": "display_data"
    }
   ],
   "source": [
    "data = [trace, MM_21, MM_90, MM_200]\n",
    "py.iplot(data, filename='simple_candlestick')"
   ]
  }
 ],
 "metadata": {
  "kernelspec": {
   "display_name": "Python 3",
   "language": "python",
   "name": "python3"
  },
  "language_info": {
   "codemirror_mode": {
    "name": "ipython",
    "version": 3
   },
   "file_extension": ".py",
   "mimetype": "text/x-python",
   "name": "python",
   "nbconvert_exporter": "python",
   "pygments_lexer": "ipython3",
   "version": "3.8.5"
  }
 },
 "nbformat": 4,
 "nbformat_minor": 4
}
