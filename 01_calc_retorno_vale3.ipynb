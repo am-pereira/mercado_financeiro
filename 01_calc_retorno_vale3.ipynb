{
 "cells": [
  {
   "cell_type": "code",
   "execution_count": 1,
   "metadata": {},
   "outputs": [],
   "source": [
    "import numpy as np\n",
    "from pandas_datareader import data as wb\n",
    "import matplotlib.pyplot as plt"
   ]
  },
  {
   "cell_type": "code",
   "execution_count": 2,
   "metadata": {},
   "outputs": [],
   "source": [
    "vale = wb.DataReader('VALE3.SA', data_source='yahoo', start='2010-1-1')"
   ]
  },
  {
   "cell_type": "code",
   "execution_count": 3,
   "metadata": {},
   "outputs": [
    {
     "data": {
      "text/html": [
       "<div>\n",
       "<style scoped>\n",
       "    .dataframe tbody tr th:only-of-type {\n",
       "        vertical-align: middle;\n",
       "    }\n",
       "\n",
       "    .dataframe tbody tr th {\n",
       "        vertical-align: top;\n",
       "    }\n",
       "\n",
       "    .dataframe thead th {\n",
       "        text-align: right;\n",
       "    }\n",
       "</style>\n",
       "<table border=\"1\" class=\"dataframe\">\n",
       "  <thead>\n",
       "    <tr style=\"text-align: right;\">\n",
       "      <th></th>\n",
       "      <th>High</th>\n",
       "      <th>Low</th>\n",
       "      <th>Open</th>\n",
       "      <th>Close</th>\n",
       "      <th>Volume</th>\n",
       "      <th>Adj Close</th>\n",
       "    </tr>\n",
       "    <tr>\n",
       "      <th>Date</th>\n",
       "      <th></th>\n",
       "      <th></th>\n",
       "      <th></th>\n",
       "      <th></th>\n",
       "      <th></th>\n",
       "      <th></th>\n",
       "    </tr>\n",
       "  </thead>\n",
       "  <tbody>\n",
       "    <tr>\n",
       "      <th>2010-01-04</th>\n",
       "      <td>51.490002</td>\n",
       "      <td>49.799999</td>\n",
       "      <td>50.189999</td>\n",
       "      <td>51.490002</td>\n",
       "      <td>2381400.0</td>\n",
       "      <td>34.636238</td>\n",
       "    </tr>\n",
       "    <tr>\n",
       "      <th>2010-01-05</th>\n",
       "      <td>52.540001</td>\n",
       "      <td>51.240002</td>\n",
       "      <td>51.540001</td>\n",
       "      <td>51.970001</td>\n",
       "      <td>3001800.0</td>\n",
       "      <td>34.959122</td>\n",
       "    </tr>\n",
       "    <tr>\n",
       "      <th>2010-01-06</th>\n",
       "      <td>53.369999</td>\n",
       "      <td>51.779999</td>\n",
       "      <td>52.000000</td>\n",
       "      <td>53.070000</td>\n",
       "      <td>2742800.0</td>\n",
       "      <td>35.699070</td>\n",
       "    </tr>\n",
       "    <tr>\n",
       "      <th>2010-01-07</th>\n",
       "      <td>53.540001</td>\n",
       "      <td>52.500000</td>\n",
       "      <td>52.509998</td>\n",
       "      <td>53.290001</td>\n",
       "      <td>2543100.0</td>\n",
       "      <td>35.847065</td>\n",
       "    </tr>\n",
       "    <tr>\n",
       "      <th>2010-01-08</th>\n",
       "      <td>54.240002</td>\n",
       "      <td>53.000000</td>\n",
       "      <td>53.299999</td>\n",
       "      <td>53.810001</td>\n",
       "      <td>2444500.0</td>\n",
       "      <td>36.196857</td>\n",
       "    </tr>\n",
       "  </tbody>\n",
       "</table>\n",
       "</div>"
      ],
      "text/plain": [
       "                 High        Low       Open      Close     Volume  Adj Close\n",
       "Date                                                                        \n",
       "2010-01-04  51.490002  49.799999  50.189999  51.490002  2381400.0  34.636238\n",
       "2010-01-05  52.540001  51.240002  51.540001  51.970001  3001800.0  34.959122\n",
       "2010-01-06  53.369999  51.779999  52.000000  53.070000  2742800.0  35.699070\n",
       "2010-01-07  53.540001  52.500000  52.509998  53.290001  2543100.0  35.847065\n",
       "2010-01-08  54.240002  53.000000  53.299999  53.810001  2444500.0  36.196857"
      ]
     },
     "execution_count": 3,
     "metadata": {},
     "output_type": "execute_result"
    }
   ],
   "source": [
    "vale.head()"
   ]
  },
  {
   "cell_type": "code",
   "execution_count": 4,
   "metadata": {},
   "outputs": [
    {
     "data": {
      "text/html": [
       "<div>\n",
       "<style scoped>\n",
       "    .dataframe tbody tr th:only-of-type {\n",
       "        vertical-align: middle;\n",
       "    }\n",
       "\n",
       "    .dataframe tbody tr th {\n",
       "        vertical-align: top;\n",
       "    }\n",
       "\n",
       "    .dataframe thead th {\n",
       "        text-align: right;\n",
       "    }\n",
       "</style>\n",
       "<table border=\"1\" class=\"dataframe\">\n",
       "  <thead>\n",
       "    <tr style=\"text-align: right;\">\n",
       "      <th></th>\n",
       "      <th>High</th>\n",
       "      <th>Low</th>\n",
       "      <th>Open</th>\n",
       "      <th>Close</th>\n",
       "      <th>Volume</th>\n",
       "      <th>Adj Close</th>\n",
       "    </tr>\n",
       "    <tr>\n",
       "      <th>Date</th>\n",
       "      <th></th>\n",
       "      <th></th>\n",
       "      <th></th>\n",
       "      <th></th>\n",
       "      <th></th>\n",
       "      <th></th>\n",
       "    </tr>\n",
       "  </thead>\n",
       "  <tbody>\n",
       "    <tr>\n",
       "      <th>2020-08-03</th>\n",
       "      <td>62.669998</td>\n",
       "      <td>60.259998</td>\n",
       "      <td>61.860001</td>\n",
       "      <td>60.259998</td>\n",
       "      <td>35910500.0</td>\n",
       "      <td>60.259998</td>\n",
       "    </tr>\n",
       "    <tr>\n",
       "      <th>2020-08-04</th>\n",
       "      <td>60.840000</td>\n",
       "      <td>59.360001</td>\n",
       "      <td>60.259998</td>\n",
       "      <td>60.700001</td>\n",
       "      <td>182535800.0</td>\n",
       "      <td>60.700001</td>\n",
       "    </tr>\n",
       "    <tr>\n",
       "      <th>2020-08-05</th>\n",
       "      <td>62.900002</td>\n",
       "      <td>61.849998</td>\n",
       "      <td>61.900002</td>\n",
       "      <td>62.189999</td>\n",
       "      <td>36999600.0</td>\n",
       "      <td>62.189999</td>\n",
       "    </tr>\n",
       "    <tr>\n",
       "      <th>2020-08-06</th>\n",
       "      <td>62.880001</td>\n",
       "      <td>61.279999</td>\n",
       "      <td>62.619999</td>\n",
       "      <td>61.830002</td>\n",
       "      <td>22468400.0</td>\n",
       "      <td>61.830002</td>\n",
       "    </tr>\n",
       "    <tr>\n",
       "      <th>2020-08-07</th>\n",
       "      <td>61.389999</td>\n",
       "      <td>59.779999</td>\n",
       "      <td>61.389999</td>\n",
       "      <td>60.450001</td>\n",
       "      <td>28316100.0</td>\n",
       "      <td>60.450001</td>\n",
       "    </tr>\n",
       "  </tbody>\n",
       "</table>\n",
       "</div>"
      ],
      "text/plain": [
       "                 High        Low       Open      Close       Volume  Adj Close\n",
       "Date                                                                          \n",
       "2020-08-03  62.669998  60.259998  61.860001  60.259998   35910500.0  60.259998\n",
       "2020-08-04  60.840000  59.360001  60.259998  60.700001  182535800.0  60.700001\n",
       "2020-08-05  62.900002  61.849998  61.900002  62.189999   36999600.0  62.189999\n",
       "2020-08-06  62.880001  61.279999  62.619999  61.830002   22468400.0  61.830002\n",
       "2020-08-07  61.389999  59.779999  61.389999  60.450001   28316100.0  60.450001"
      ]
     },
     "execution_count": 4,
     "metadata": {},
     "output_type": "execute_result"
    }
   ],
   "source": [
    "vale.tail()"
   ]
  },
  {
   "cell_type": "code",
   "execution_count": 5,
   "metadata": {},
   "outputs": [
    {
     "data": {
      "text/plain": [
       "Date\n",
       "2010-01-04         NaN\n",
       "2010-01-05    0.009322\n",
       "2010-01-06    0.021166\n",
       "2010-01-07    0.004146\n",
       "2010-01-08    0.009758\n",
       "                ...   \n",
       "2020-08-03   -0.007412\n",
       "2020-08-04    0.007302\n",
       "2020-08-05    0.024547\n",
       "2020-08-06   -0.005789\n",
       "2020-08-07   -0.022319\n",
       "Name: simple_return, Length: 2617, dtype: float64"
      ]
     },
     "execution_count": 5,
     "metadata": {},
     "output_type": "execute_result"
    }
   ],
   "source": [
    "#Taxa de retorno simples\n",
    "vale['simple_return'] = (vale['Adj Close'] / vale['Adj Close'].shift(1)) - 1\n",
    "vale['simple_return']"
   ]
  },
  {
   "cell_type": "code",
   "execution_count": 6,
   "metadata": {},
   "outputs": [
    {
     "data": {
      "text/plain": [
       "<matplotlib.axes._subplots.AxesSubplot at 0x261320211c8>"
      ]
     },
     "execution_count": 6,
     "metadata": {},
     "output_type": "execute_result"
    },
    {
     "data": {
      "image/png": "[encoded data removed]",
      "text/plain": [
       "<Figure size 576x360 with 1 Axes>"
      ]
     },
     "metadata": {
      "needs_background": "light"
     },
     "output_type": "display_data"
    }
   ],
   "source": [
    "vale['simple_return'].plot(figsize=(8,5))"
   ]
  },
  {
   "cell_type": "code",
   "execution_count": 7,
   "metadata": {},
   "outputs": [
    {
     "data": {
      "text/plain": [
       "0.0005773723598931625"
      ]
     },
     "execution_count": 7,
     "metadata": {},
     "output_type": "execute_result"
    }
   ],
   "source": [
    "#Média de retorno diário\n",
    "avg_returns_d = vale['simple_return'].mean()\n",
    "avg_returns_d"
   ]
  },
  {
   "cell_type": "code",
   "execution_count": 8,
   "metadata": {},
   "outputs": [
    {
     "data": {
      "text/plain": [
       "0.14434308997329062"
      ]
     },
     "execution_count": 8,
     "metadata": {},
     "output_type": "execute_result"
    }
   ],
   "source": [
    "# Retorno anual\n",
    "avg_returns_a = vale['simple_return'].mean() * 250\n",
    "avg_returns_a"
   ]
  },
  {
   "cell_type": "code",
   "execution_count": 9,
   "metadata": {},
   "outputs": [
    {
     "data": {
      "text/plain": [
       "'14.434 %'"
      ]
     },
     "execution_count": 9,
     "metadata": {},
     "output_type": "execute_result"
    }
   ],
   "source": [
    "str(round(avg_returns_a, 5) * 100) + ' %'"
   ]
  },
  {
   "cell_type": "code",
   "execution_count": 10,
   "metadata": {},
   "outputs": [
    {
     "data": {
      "text/plain": [
       "Date\n",
       "2010-01-04         NaN\n",
       "2010-01-05    0.009279\n",
       "2010-01-06    0.020945\n",
       "2010-01-07    0.004137\n",
       "2010-01-08    0.009711\n",
       "                ...   \n",
       "2020-08-03   -0.007440\n",
       "2020-08-04    0.007275\n",
       "2020-08-05    0.024250\n",
       "2020-08-06   -0.005805\n",
       "2020-08-07   -0.022572\n",
       "Name: log_return, Length: 2617, dtype: float64"
      ]
     },
     "execution_count": 10,
     "metadata": {},
     "output_type": "execute_result"
    }
   ],
   "source": [
    "#Taxa de retorno logarítma\n",
    "vale['log_return'] = np.log(vale['Adj Close'] / vale['Adj Close'].shift(1))\n",
    "vale['log_return']"
   ]
  },
  {
   "cell_type": "code",
   "execution_count": 11,
   "metadata": {},
   "outputs": [
    {
     "data": {
      "text/plain": [
       "<matplotlib.axes._subplots.AxesSubplot at 0x26132021648>"
      ]
     },
     "execution_count": 11,
     "metadata": {},
     "output_type": "execute_result"
    },
    {
     "data": {
      "image/png": "[encoded data removed]",
      "text/plain": [
       "<Figure size 576x360 with 1 Axes>"
      ]
     },
     "metadata": {
      "needs_background": "light"
     },
     "output_type": "display_data"
    }
   ],
   "source": [
    "vale['log_return'].plot(figsize=(8,5))"
   ]
  },
  {
   "cell_type": "code",
   "execution_count": 12,
   "metadata": {},
   "outputs": [
    {
     "data": {
      "text/plain": [
       "0.0002128884219507108"
      ]
     },
     "execution_count": 12,
     "metadata": {},
     "output_type": "execute_result"
    }
   ],
   "source": [
    "#Média de retorno logarítma diário\n",
    "log_returns_d = vale['log_return'].mean()\n",
    "log_returns_d"
   ]
  },
  {
   "cell_type": "code",
   "execution_count": 13,
   "metadata": {},
   "outputs": [
    {
     "data": {
      "text/plain": [
       "0.0532221054876777"
      ]
     },
     "execution_count": 13,
     "metadata": {},
     "output_type": "execute_result"
    }
   ],
   "source": [
    "# Retorno anual\n",
    "log_returns_a = vale['log_return'].mean() * 250\n",
    "log_returns_a"
   ]
  },
  {
   "cell_type": "code",
   "execution_count": 14,
   "metadata": {},
   "outputs": [
    {
     "data": {
      "text/plain": [
       "'5.322 %'"
      ]
     },
     "execution_count": 14,
     "metadata": {},
     "output_type": "execute_result"
    }
   ],
   "source": [
    "str(round(log_returns_a, 5) * 100) + ' %'"
   ]
  }
 ],
 "metadata": {
  "kernelspec": {
   "display_name": "Python 3",
   "language": "python",
   "name": "python3"
  },
  "language_info": {
   "codemirror_mode": {
    "name": "ipython",
    "version": 3
   },
   "file_extension": ".py",
   "mimetype": "text/x-python",
   "name": "python",
   "nbconvert_exporter": "python",
   "pygments_lexer": "ipython3",
   "version": "3.7.6"
  }
 },
 "nbformat": 4,
 "nbformat_minor": 4
}
